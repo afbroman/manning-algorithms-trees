{
 "cells": [
  {
   "cell_type": "code",
   "execution_count": 27,
   "id": "81fdcc7c-a70b-423a-9c44-565a99c51836",
   "metadata": {},
   "outputs": [],
   "source": [
    "class BinaryNode:\n",
    "    def __init__(self, value):\n",
    "        self.value = value\n",
    "        self.left_child = None\n",
    "        self.right_child = None\n",
    "        self.indent = '  '\n",
    "        \n",
    "    def add_left(self, child):\n",
    "        self.left_child = child\n",
    "        \n",
    "    def add_right(self, child):\n",
    "        self.right_child = child\n",
    "        \n",
    "    def __str__(self, level=0):\n",
    "        result = self.indent * level + f'{self.value}:\\n'\n",
    "        \n",
    "        if (self.left_child != None) or (self.right_child != None):\n",
    "            if (self.left_child == None):\n",
    "                result += self.indent * (level+1) + 'None\\n'\n",
    "            else:\n",
    "                result += self.left_child.__str__(level + 1)\n",
    "            \n",
    "            if (self.right_child == None):\n",
    "                result += self.indent * (level+1) + 'None\\n'\n",
    "            else:\n",
    "                result += self.right_child.__str__(level + 1)\n",
    "        return result\n",
    "    \n",
    "    def find_node(self, value):\n",
    "        if self.value == value:\n",
    "            return self\n",
    "        \n",
    "        if self.left_child != None:\n",
    "            left_result = self.left_child.find_node(value)\n",
    "            if left_result != None:\n",
    "                return left_result\n",
    "        \n",
    "        if self.right_child != None:\n",
    "            right_result = self.right_child.find_node(value)\n",
    "            if right_result != None:\n",
    "                return right_result\n",
    "\n",
    "        return None"
   ]
  },
  {
   "cell_type": "code",
   "execution_count": 28,
   "id": "bd9de8e4-f0fd-491f-9b16-57fe9768b805",
   "metadata": {},
   "outputs": [],
   "source": [
    "def find_value(node, value):\n",
    "    if node.find_node(value) != None:\n",
    "        print(f'Found {value}')\n",
    "    else:\n",
    "        print(f'Value {value} not found')"
   ]
  },
  {
   "cell_type": "code",
   "execution_count": 29,
   "id": "863af7ae-2b45-4e8a-95fc-dfa88049cea1",
   "metadata": {},
   "outputs": [],
   "source": [
    "root = BinaryNode('Root')\n",
    "a = BinaryNode('A')\n",
    "b = BinaryNode('B')\n",
    "c = BinaryNode('C')\n",
    "d = BinaryNode('D')\n",
    "e = BinaryNode('E')\n",
    "f = BinaryNode('F')\n",
    "root.add_left(a)\n",
    "b = BinaryNode('B')\n",
    "root.add_right(b)\n",
    "a.add_left(c)\n",
    "a.add_right(d)\n",
    "b.add_right(e)\n",
    "e.add_left(f)"
   ]
  },
  {
   "cell_type": "code",
   "execution_count": 30,
   "id": "01461e10-5b6f-4b22-bf77-f63add9a2603",
   "metadata": {},
   "outputs": [
    {
     "name": "stdout",
     "output_type": "stream",
     "text": [
      "Found Root\n",
      "Found E\n",
      "Found F\n",
      "Value Q not found\n",
      "Found F\n"
     ]
    }
   ],
   "source": [
    "# Find some values.\n",
    "find_value(root, 'Root')\n",
    "find_value(root, 'E')\n",
    "find_value(root, 'F')\n",
    "find_value(root, 'Q')\n",
    "\n",
    "# Find F in the B subtree.\n",
    "find_value(b, 'F')"
   ]
  },
  {
   "cell_type": "code",
   "execution_count": null,
   "id": "0cea68ff-44b0-4efc-bd0e-444656a29105",
   "metadata": {},
   "outputs": [],
   "source": []
  }
 ],
 "metadata": {
  "kernelspec": {
   "display_name": "Python 3 (ipykernel)",
   "language": "python",
   "name": "python3"
  },
  "language_info": {
   "codemirror_mode": {
    "name": "ipython",
    "version": 3
   },
   "file_extension": ".py",
   "mimetype": "text/x-python",
   "name": "python",
   "nbconvert_exporter": "python",
   "pygments_lexer": "ipython3",
   "version": "3.9.8"
  }
 },
 "nbformat": 4,
 "nbformat_minor": 5
}
