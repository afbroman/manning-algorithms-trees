{
 "cells": [
  {
   "cell_type": "code",
   "execution_count": 21,
   "id": "1115b5da-1ff5-4435-a20b-994928725597",
   "metadata": {},
   "outputs": [],
   "source": [
    "class NaryNode:\n",
    "    def __init__(self, value):\n",
    "        self.value = value\n",
    "        self.children = []\n",
    "        self.indent = '  '\n",
    "        \n",
    "    def add_child(self, child):\n",
    "        self.children.append(child)\n",
    "        \n",
    "    def __str__(self, level=0):\n",
    "        result = (self.indent * level) + self.value + ':\\n'\n",
    "        for child in self.children:\n",
    "            result += child.__str__(level + 1)\n",
    "        return result\n",
    "    \n",
    "    def find_node(self, value):\n",
    "        if self.value == value:\n",
    "            return self\n",
    "        \n",
    "        for child in self.children:\n",
    "            result = child.find_node(value)\n",
    "            if result != None:\n",
    "                return result\n",
    "\n",
    "        return None\n",
    "    \n",
    "    def traverse_preorder(self):\n",
    "        result = [self]\n",
    "        for child in self.children:\n",
    "            result = result + child.traverse_preorder()\n",
    "        return result\n",
    "    \n",
    "    def traverse_postorder(self):\n",
    "        result = []\n",
    "        for child in self.children:\n",
    "            result = result + child.traverse_postorder()\n",
    "        result = result + [self]\n",
    "        return result\n",
    "    \n",
    "    def traverse_breadth_first(self):\n",
    "        result = []\n",
    "        queue = [self]\n",
    "        \n",
    "        while len(queue) > 0:\n",
    "            node = queue.pop(0)\n",
    "            result.append(node)\n",
    "            for child in node.children:\n",
    "                queue.append(child)\n",
    "        return result"
   ]
  },
  {
   "cell_type": "code",
   "execution_count": 22,
   "id": "2258a9dd-ea37-4d50-92d6-956f16f07835",
   "metadata": {},
   "outputs": [],
   "source": [
    "def find_value(node, value):\n",
    "    if node.find_node(value) != None:\n",
    "        print(f'Found {value}')\n",
    "    else:\n",
    "        print(f'Value {value} not found')"
   ]
  },
  {
   "cell_type": "code",
   "execution_count": 23,
   "id": "7495a4b4-91a2-4c3f-8700-0326244128b3",
   "metadata": {},
   "outputs": [],
   "source": [
    "root = NaryNode('Root')\n",
    "a = NaryNode('A')\n",
    "b = NaryNode('B')\n",
    "c = NaryNode('C')\n",
    "d = NaryNode('D')\n",
    "e = NaryNode('E')\n",
    "f = NaryNode('F')\n",
    "g = NaryNode('G')\n",
    "h = NaryNode('H')\n",
    "i = NaryNode('I')\n",
    "root.add_child(a)\n",
    "root.add_child(b)\n",
    "root.add_child(c)\n",
    "a.add_child(d)\n",
    "a.add_child(e)\n",
    "c.add_child(f)\n",
    "d.add_child(g)\n",
    "f.add_child(h)\n",
    "f.add_child(i)"
   ]
  },
  {
   "cell_type": "code",
   "execution_count": 24,
   "id": "28c3111e-76c0-42a1-936d-dcb0afc6721b",
   "metadata": {},
   "outputs": [
    {
     "name": "stdout",
     "output_type": "stream",
     "text": [
      "Preorder:      Root A D G E B C F H I \n",
      "Postorder:     G D E A B H I F C Root \n",
      "Breadth-First: Root A B C D E F G H I \n"
     ]
    }
   ],
   "source": [
    "print('Preorder:      ', end='')\n",
    "for node in root.traverse_preorder():\n",
    "    print(f'{node.value} ', end='')\n",
    "print()\n",
    "\n",
    "print('Postorder:     ', end='')\n",
    "for node in root.traverse_postorder():\n",
    "    print(f'{node.value} ', end='')\n",
    "print()\n",
    "\n",
    "print('Breadth-First: ', end='')\n",
    "for node in root.traverse_breadth_first():\n",
    "    print(f'{node.value} ', end='')\n",
    "print()"
   ]
  }
 ],
 "metadata": {
  "kernelspec": {
   "display_name": "Python 3 (ipykernel)",
   "language": "python",
   "name": "python3"
  },
  "language_info": {
   "codemirror_mode": {
    "name": "ipython",
    "version": 3
   },
   "file_extension": ".py",
   "mimetype": "text/x-python",
   "name": "python",
   "nbconvert_exporter": "python",
   "pygments_lexer": "ipython3",
   "version": "3.9.8"
  }
 },
 "nbformat": 4,
 "nbformat_minor": 5
}
