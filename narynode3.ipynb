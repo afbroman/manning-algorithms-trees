{
 "cells": [
  {
   "cell_type": "code",
   "execution_count": 7,
   "id": "1115b5da-1ff5-4435-a20b-994928725597",
   "metadata": {},
   "outputs": [],
   "source": [
    "class NaryNode:\n",
    "    def __init__(self, value):\n",
    "        self.value = value\n",
    "        self.children = []\n",
    "        self.indent = '  '\n",
    "        \n",
    "    def add_child(self, child):\n",
    "        self.children.append(child)\n",
    "        \n",
    "    def __str__(self, level=0):\n",
    "        result = (self.indent * level) + self.value + ':\\n'\n",
    "        for child in self.children:\n",
    "            result += child.__str__(level + 1)\n",
    "        return result\n",
    "    \n",
    "    def find_node(self, value):\n",
    "        if self.value == value:\n",
    "            return self\n",
    "        \n",
    "        for child in self.children:\n",
    "            result = child.find_node(value)\n",
    "            if result != None:\n",
    "                return result\n",
    "\n",
    "        return None"
   ]
  },
  {
   "cell_type": "code",
   "execution_count": 8,
   "id": "2258a9dd-ea37-4d50-92d6-956f16f07835",
   "metadata": {},
   "outputs": [],
   "source": [
    "def find_value(node, value):\n",
    "    if node.find_node(value) != None:\n",
    "        print(f'Found {value}')\n",
    "    else:\n",
    "        print(f'Value {value} not found')"
   ]
  },
  {
   "cell_type": "code",
   "execution_count": 9,
   "id": "7495a4b4-91a2-4c3f-8700-0326244128b3",
   "metadata": {},
   "outputs": [],
   "source": [
    "root = NaryNode('Root')\n",
    "a = NaryNode('A')\n",
    "b = NaryNode('B')\n",
    "c = NaryNode('C')\n",
    "d = NaryNode('D')\n",
    "e = NaryNode('E')\n",
    "f = NaryNode('F')\n",
    "g = NaryNode('G')\n",
    "h = NaryNode('H')\n",
    "i = NaryNode('I')\n",
    "root.add_child(a)\n",
    "root.add_child(b)\n",
    "root.add_child(c)\n",
    "a.add_child(d)\n",
    "a.add_child(e)\n",
    "c.add_child(f)\n",
    "d.add_child(g)\n",
    "f.add_child(h)\n",
    "f.add_child(i)"
   ]
  },
  {
   "cell_type": "code",
   "execution_count": 10,
   "id": "28c3111e-76c0-42a1-936d-dcb0afc6721b",
   "metadata": {},
   "outputs": [
    {
     "name": "stdout",
     "output_type": "stream",
     "text": [
      "Found Root\n",
      "Found E\n",
      "Found F\n",
      "Value Q not found\n",
      "Found F\n"
     ]
    }
   ],
   "source": [
    "# Find some values.\n",
    "find_value(root, 'Root')\n",
    "find_value(root, 'E')\n",
    "find_value(root, 'F')\n",
    "find_value(root, 'Q')\n",
    "\n",
    "# Find F in the C subtree.\n",
    "find_value(c, 'F')"
   ]
  },
  {
   "cell_type": "code",
   "execution_count": null,
   "id": "59442180-3a81-4bd3-964f-30cd1b28fd0c",
   "metadata": {},
   "outputs": [],
   "source": []
  }
 ],
 "metadata": {
  "kernelspec": {
   "display_name": "Python 3 (ipykernel)",
   "language": "python",
   "name": "python3"
  },
  "language_info": {
   "codemirror_mode": {
    "name": "ipython",
    "version": 3
   },
   "file_extension": ".py",
   "mimetype": "text/x-python",
   "name": "python",
   "nbconvert_exporter": "python",
   "pygments_lexer": "ipython3",
   "version": "3.9.8"
  }
 },
 "nbformat": 4,
 "nbformat_minor": 5
}
